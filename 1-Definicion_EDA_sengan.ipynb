{
 "cells": [
  {
   "cell_type": "markdown",
   "metadata": {},
   "source": [
    "![imagen](./img/ejercicios.png)"
   ]
  },
  {
   "cell_type": "markdown",
   "metadata": {},
   "source": [
    "# INFORMACIÓN DEL PROYECTO"
   ]
  },
  {
   "cell_type": "markdown",
   "metadata": {},
   "source": [
    "### TÍTULO"
   ]
  },
  {
   "cell_type": "code",
   "execution_count": null,
   "metadata": {},
   "outputs": [],
   "source": [
    "#Escribe el título del proyecto en Markdown\n",
    "titulo = \"Accidentes de tráfico en Madrid\""
   ]
  },
  {
   "cell_type": "markdown",
   "metadata": {},
   "source": [
    "### TEMA"
   ]
  },
  {
   "cell_type": "code",
   "execution_count": null,
   "metadata": {},
   "outputs": [],
   "source": [
    "# Describe brevemente el tema del proyecto en Markdown\n",
    "tema = \"analisis exploratorio de los accidentes ocurridos en Madrid en el año 2023\""
   ]
  },
  {
   "cell_type": "markdown",
   "metadata": {},
   "source": [
    "### HIPÓTESIS"
   ]
  },
  {
   "cell_type": "markdown",
   "metadata": {},
   "source": [
    "Define aquí lo que será la hipótesis de tu proyecto.\n",
    "Deberás tener más de una, pero tu proyecto lo harás teniendo una principal hipótesis."
   ]
  },
  {
   "cell_type": "code",
   "execution_count": null,
   "metadata": {},
   "outputs": [],
   "source": [
    "# Escribe tu hipótesis principal en Markdown\n",
    "hipotesis_1 = \"qué grupo de edad tiene mas accidentes\""
   ]
  },
  {
   "cell_type": "code",
   "execution_count": null,
   "metadata": {},
   "outputs": [],
   "source": [
    "\n",
    " hipotesis_2 = \"en que barrio se producen más accidentes\"\n",
    "hipotesis_3 = \"en qué franja horaria se producen más accidentes\"\n",
    "hipotesis_4 = \"cuantos accidentes de media al dia\"\n",
    "hipotesis_5 = \"hay mas accidentes cuando no esta despejado\"\n",
    "hipotesis_6 = \"accidentes por sexos\"\n"
   ]
  },
  {
   "cell_type": "markdown",
   "metadata": {},
   "source": [
    "## OBTENCIÓN DE LOS DATOS"
   ]
  },
  {
   "cell_type": "markdown",
   "metadata": {},
   "source": [
    "### DATASETS Y FUENTES ALTERNATIVAS DE DATOS"
   ]
  },
  {
   "cell_type": "markdown",
   "metadata": {},
   "source": [
    "Incluye aquí una vista del dataset o datasets de los que partirás para poder evaluar tu hipótesis. <br>\n",
    "También incluye el origen de estos datos y su fuente."
   ]
  },
  {
   "cell_type": "code",
   "execution_count": 7,
   "metadata": {},
   "outputs": [],
   "source": [
    "import pandas as pd"
   ]
  },
  {
   "cell_type": "code",
   "execution_count": 14,
   "metadata": {},
   "outputs": [],
   "source": [
    "import pandas as pd\n",
    "# guarda en variables los datasets y su fuente\n",
    "df_1 = pd.read_csv('C:/Users/Sengan/Desktop/2023_Accidentalidad.csv', sep=';')\n",
    "fuente_1 = \"\"\n"
   ]
  },
  {
   "cell_type": "markdown",
   "metadata": {},
   "source": [
    "Muestra mediante un head() los principales datasets con los que vas a trabajar"
   ]
  },
  {
   "cell_type": "code",
   "execution_count": 15,
   "metadata": {},
   "outputs": [
    {
     "data": {
      "text/html": [
       "<div>\n",
       "<style scoped>\n",
       "    .dataframe tbody tr th:only-of-type {\n",
       "        vertical-align: middle;\n",
       "    }\n",
       "\n",
       "    .dataframe tbody tr th {\n",
       "        vertical-align: top;\n",
       "    }\n",
       "\n",
       "    .dataframe thead th {\n",
       "        text-align: right;\n",
       "    }\n",
       "</style>\n",
       "<table border=\"1\" class=\"dataframe\">\n",
       "  <thead>\n",
       "    <tr style=\"text-align: right;\">\n",
       "      <th></th>\n",
       "      <th>num_expediente</th>\n",
       "      <th>fecha</th>\n",
       "      <th>hora</th>\n",
       "      <th>localizacion</th>\n",
       "      <th>numero</th>\n",
       "      <th>cod_distrito</th>\n",
       "      <th>distrito</th>\n",
       "      <th>tipo_accidente</th>\n",
       "      <th>estado_meteorológico</th>\n",
       "      <th>tipo_vehiculo</th>\n",
       "      <th>tipo_persona</th>\n",
       "      <th>rango_edad</th>\n",
       "      <th>sexo</th>\n",
       "      <th>cod_lesividad</th>\n",
       "      <th>lesividad</th>\n",
       "      <th>coordenada_x_utm</th>\n",
       "      <th>coordenada_y_utm</th>\n",
       "      <th>positiva_alcohol</th>\n",
       "      <th>positiva_droga</th>\n",
       "    </tr>\n",
       "  </thead>\n",
       "  <tbody>\n",
       "    <tr>\n",
       "      <th>0</th>\n",
       "      <td>2023S000001</td>\n",
       "      <td>01/01/2023</td>\n",
       "      <td>1:15:00</td>\n",
       "      <td>AVDA. ALFONSO XIII, 33</td>\n",
       "      <td>33</td>\n",
       "      <td>5.0</td>\n",
       "      <td>CHAMARTÍN</td>\n",
       "      <td>Alcance</td>\n",
       "      <td>Despejado</td>\n",
       "      <td>Todo terreno</td>\n",
       "      <td>Conductor</td>\n",
       "      <td>De 55 a 59 años</td>\n",
       "      <td>Mujer</td>\n",
       "      <td>14.0</td>\n",
       "      <td>Sin asistencia sanitaria</td>\n",
       "      <td>443397.0</td>\n",
       "      <td>4478129.0</td>\n",
       "      <td>N</td>\n",
       "      <td>NaN</td>\n",
       "    </tr>\n",
       "    <tr>\n",
       "      <th>1</th>\n",
       "      <td>2023S000001</td>\n",
       "      <td>01/01/2023</td>\n",
       "      <td>1:15:00</td>\n",
       "      <td>AVDA. ALFONSO XIII, 33</td>\n",
       "      <td>33</td>\n",
       "      <td>5.0</td>\n",
       "      <td>CHAMARTÍN</td>\n",
       "      <td>Alcance</td>\n",
       "      <td>Despejado</td>\n",
       "      <td>Todo terreno</td>\n",
       "      <td>Pasajero</td>\n",
       "      <td>De 21 a 24 años</td>\n",
       "      <td>Hombre</td>\n",
       "      <td>14.0</td>\n",
       "      <td>Sin asistencia sanitaria</td>\n",
       "      <td>443397.0</td>\n",
       "      <td>4478129.0</td>\n",
       "      <td>N</td>\n",
       "      <td>NaN</td>\n",
       "    </tr>\n",
       "    <tr>\n",
       "      <th>2</th>\n",
       "      <td>2023S000001</td>\n",
       "      <td>01/01/2023</td>\n",
       "      <td>1:15:00</td>\n",
       "      <td>AVDA. ALFONSO XIII, 33</td>\n",
       "      <td>33</td>\n",
       "      <td>5.0</td>\n",
       "      <td>CHAMARTÍN</td>\n",
       "      <td>Alcance</td>\n",
       "      <td>Despejado</td>\n",
       "      <td>Todo terreno</td>\n",
       "      <td>Pasajero</td>\n",
       "      <td>De 21 a 24 años</td>\n",
       "      <td>Hombre</td>\n",
       "      <td>14.0</td>\n",
       "      <td>Sin asistencia sanitaria</td>\n",
       "      <td>443397.0</td>\n",
       "      <td>4478129.0</td>\n",
       "      <td>N</td>\n",
       "      <td>NaN</td>\n",
       "    </tr>\n",
       "    <tr>\n",
       "      <th>3</th>\n",
       "      <td>2023S000001</td>\n",
       "      <td>01/01/2023</td>\n",
       "      <td>1:15:00</td>\n",
       "      <td>AVDA. ALFONSO XIII, 33</td>\n",
       "      <td>33</td>\n",
       "      <td>5.0</td>\n",
       "      <td>CHAMARTÍN</td>\n",
       "      <td>Alcance</td>\n",
       "      <td>Despejado</td>\n",
       "      <td>Todo terreno</td>\n",
       "      <td>Pasajero</td>\n",
       "      <td>De 21 a 24 años</td>\n",
       "      <td>Mujer</td>\n",
       "      <td>7.0</td>\n",
       "      <td>Asistencia sanitaria sólo en el lugar del acci...</td>\n",
       "      <td>443397.0</td>\n",
       "      <td>4478129.0</td>\n",
       "      <td>N</td>\n",
       "      <td>NaN</td>\n",
       "    </tr>\n",
       "    <tr>\n",
       "      <th>4</th>\n",
       "      <td>2023S000001</td>\n",
       "      <td>01/01/2023</td>\n",
       "      <td>1:15:00</td>\n",
       "      <td>AVDA. ALFONSO XIII, 33</td>\n",
       "      <td>33</td>\n",
       "      <td>5.0</td>\n",
       "      <td>CHAMARTÍN</td>\n",
       "      <td>Alcance</td>\n",
       "      <td>Despejado</td>\n",
       "      <td>Todo terreno</td>\n",
       "      <td>Pasajero</td>\n",
       "      <td>De 55 a 59 años</td>\n",
       "      <td>Hombre</td>\n",
       "      <td>7.0</td>\n",
       "      <td>Asistencia sanitaria sólo en el lugar del acci...</td>\n",
       "      <td>443397.0</td>\n",
       "      <td>4478129.0</td>\n",
       "      <td>N</td>\n",
       "      <td>NaN</td>\n",
       "    </tr>\n",
       "  </tbody>\n",
       "</table>\n",
       "</div>"
      ],
      "text/plain": [
       "  num_expediente       fecha     hora            localizacion numero  \\\n",
       "0    2023S000001  01/01/2023  1:15:00  AVDA. ALFONSO XIII, 33     33   \n",
       "1    2023S000001  01/01/2023  1:15:00  AVDA. ALFONSO XIII, 33     33   \n",
       "2    2023S000001  01/01/2023  1:15:00  AVDA. ALFONSO XIII, 33     33   \n",
       "3    2023S000001  01/01/2023  1:15:00  AVDA. ALFONSO XIII, 33     33   \n",
       "4    2023S000001  01/01/2023  1:15:00  AVDA. ALFONSO XIII, 33     33   \n",
       "\n",
       "   cod_distrito   distrito tipo_accidente estado_meteorológico tipo_vehiculo  \\\n",
       "0           5.0  CHAMARTÍN        Alcance            Despejado  Todo terreno   \n",
       "1           5.0  CHAMARTÍN        Alcance            Despejado  Todo terreno   \n",
       "2           5.0  CHAMARTÍN        Alcance            Despejado  Todo terreno   \n",
       "3           5.0  CHAMARTÍN        Alcance            Despejado  Todo terreno   \n",
       "4           5.0  CHAMARTÍN        Alcance            Despejado  Todo terreno   \n",
       "\n",
       "  tipo_persona       rango_edad    sexo  cod_lesividad  \\\n",
       "0    Conductor  De 55 a 59 años   Mujer           14.0   \n",
       "1     Pasajero  De 21 a 24 años  Hombre           14.0   \n",
       "2     Pasajero  De 21 a 24 años  Hombre           14.0   \n",
       "3     Pasajero  De 21 a 24 años   Mujer            7.0   \n",
       "4     Pasajero  De 55 a 59 años  Hombre            7.0   \n",
       "\n",
       "                                           lesividad  coordenada_x_utm  \\\n",
       "0                           Sin asistencia sanitaria          443397.0   \n",
       "1                           Sin asistencia sanitaria          443397.0   \n",
       "2                           Sin asistencia sanitaria          443397.0   \n",
       "3  Asistencia sanitaria sólo en el lugar del acci...          443397.0   \n",
       "4  Asistencia sanitaria sólo en el lugar del acci...          443397.0   \n",
       "\n",
       "   coordenada_y_utm positiva_alcohol  positiva_droga  \n",
       "0         4478129.0                N             NaN  \n",
       "1         4478129.0                N             NaN  \n",
       "2         4478129.0                N             NaN  \n",
       "3         4478129.0                N             NaN  \n",
       "4         4478129.0                N             NaN  "
      ]
     },
     "execution_count": 15,
     "metadata": {},
     "output_type": "execute_result"
    }
   ],
   "source": [
    "# Primer dataset\n",
    "df_1.head()"
   ]
  }
 ],
 "metadata": {
  "kernelspec": {
   "display_name": "Python 3",
   "language": "python",
   "name": "python3"
  },
  "language_info": {
   "codemirror_mode": {
    "name": "ipython",
    "version": 3
   },
   "file_extension": ".py",
   "mimetype": "text/x-python",
   "name": "python",
   "nbconvert_exporter": "python",
   "pygments_lexer": "ipython3",
   "version": "3.12.6"
  },
  "orig_nbformat": 4
 },
 "nbformat": 4,
 "nbformat_minor": 2
}
