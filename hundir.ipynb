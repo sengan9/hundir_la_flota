{
 "cells": [
  {
   "cell_type": "code",
   "execution_count": 2,
   "metadata": {},
   "outputs": [],
   "source": [
    "import numpy as np \n",
    "import random"
   ]
  },
  {
   "cell_type": "code",
   "execution_count": 3,
   "metadata": {},
   "outputs": [],
   "source": [
    "def crear_tablero(tamano):\n",
    "    return [[0 for _ in range(tamano)] for _ in range(tamano)]"
   ]
  },
  {
   "cell_type": "code",
   "execution_count": 4,
   "metadata": {},
   "outputs": [],
   "source": [
    "def crear_barco(longitud, tamano):\n",
    "    orientacion = random.choice([0, 1])\n",
    "    if orientacion == 0:\n",
    "        fila = random.randint(0, tamano - 1)\n",
    "        columna = random.randint(0, tamano - longitud)\n",
    "    else:\n",
    "        fila = random.randint(0, tamano - longitud)\n",
    "        columna = random.randint(0, tamano - 1)\n",
    "    return [(fila + i if orientacion else fila, columna if orientacion else columna + i) for i in range(longitud)]"
   ]
  },
  {
   "cell_type": "code",
   "execution_count": 5,
   "metadata": {},
   "outputs": [],
   "source": [
    "def colocar_barco(barco, tablero):\n",
    "    for (fila, columna) in barco:\n",
    "        if fila >= len(tablero) or columna >= len(tablero[0]) or tablero[fila][columna] == 1:\n",
    "            raise Exception(\"Barco fuera del tablero o colisión detectada\")\n",
    "        tablero[fila][columna] = 1\n",
    "    return tablero"
   ]
  },
  {
   "cell_type": "code",
   "execution_count": 6,
   "metadata": {},
   "outputs": [],
   "source": [
    "def disparar(coordenada, tablero):\n",
    "    fila, columna = coordenada\n",
    "    if tablero[fila][columna] == 1:\n",
    "        print(\"¡Impacto!\")\n",
    "        tablero[fila][columna] = 2\n",
    "        return True\n",
    "    elif tablero[fila][columna] == 0:\n",
    "        print(\"Agua\")\n",
    "        tablero[fila][columna] = -1\n",
    "        return False\n",
    "    else:\n",
    "        print(\"Ya has disparado aquí\")\n",
    "        return False"
   ]
  },
  {
   "cell_type": "code",
   "execution_count": 7,
   "metadata": {},
   "outputs": [],
   "source": [
    "def generar_disparo_aleatorio(tamano):\n",
    "    return (random.randint(0, tamano - 1), random.randint(0, tamano - 1))"
   ]
  },
  {
   "cell_type": "code",
   "execution_count": 8,
   "metadata": {},
   "outputs": [],
   "source": [
    "def todos_barcos_hundidos(tablero):\n",
    "    for fila in tablero:\n",
    "        if 1 in fila:\n",
    "            return False\n",
    "    return True"
   ]
  },
  {
   "cell_type": "code",
   "execution_count": 10,
   "metadata": {},
   "outputs": [],
   "source": [
    "def jugar():\n",
    "    tamano = 10\n",
    "    tablero_jugador = crear_tablero(tamano)\n",
    "    tablero_maquina = crear_tablero(tamano)\n",
    "\n",
    "    barcos = [2, 3, 3, 4, 5]\n",
    "\n",
    "    for longitud in barcos:\n",
    "        colocado = False\n",
    "        while not colocado:\n",
    "            try:\n",
    "                barco = crear_barco(longitud, tamano)\n",
    "                tablero_jugador = colocar_barco(barco, tablero_jugador)\n",
    "                colocado = True\n",
    "            except Exception:\n",
    "                pass\n",
    "\n",
    "    for longitud in barcos:\n",
    "        colocado = False\n",
    "        while not colocado:\n",
    "            try:\n",
    "                barco = crear_barco(longitud, tamano)\n",
    "                tablero_maquina = colocar_barco(barco, tablero_maquina)\n",
    "                colocado = True\n",
    "            except Exception:\n",
    "                pass\n",
    "\n",
    "    turno_jugador = True\n",
    "    while True:\n",
    "        if turno_jugador:\n",
    "            print(\"Tu turno\")\n",
    "            fila = int(input(\"Introduce la fila (0-9): \"))\n",
    "            columna = int(input(\"Introduce la columna (0-9): \"))\n",
    "            exito = disparar((fila, columna), tablero_maquina)\n",
    "        else:\n",
    "            print(\"Turno de la máquina\")\n",
    "            disparo = generar_disparo_aleatorio(tamano)\n",
    "            print(f\"Máquina dispara a {disparo}\")\n",
    "            exito = disparar(disparo, tablero_jugador)\n",
    "\n",
    "        if todos_barcos_hundidos(tablero_maquina):\n",
    "            print(\"¡Has ganado!\")\n",
    "            break\n",
    "        elif todos_barcos_hundidos(tablero_jugador):\n",
    "            print(\"¡La máquina ha ganado!\")\n",
    "            break\n",
    "\n",
    "        turno_jugador = not turno_jugador\n",
    "\n",
    "def imprimir_tablero(tablero, ocultar_barcos=False):\n",
    "    simbolos = {\n",
    "        0: ' ',  \n",
    "        1: 'B', \n",
    "        2: 'X',  \n",
    "        -1: 'O'\n",
    "    }\n",
    "    print(\"  \" + \" \".join(str(i) for i in range(len(tablero))))\n",
    "    for idx, fila in enumerate(tablero):\n",
    "        fila_visible = [simbolos[c] if not ocultar_barcos or c != 1 else ' ' for c in fila]\n",
    "        print(f\"{idx} \" + \" \".join(fila_visible))\n",
    "    print()"
   ]
  }
 ],
 "metadata": {
  "kernelspec": {
   "display_name": "Python 3",
   "language": "python",
   "name": "python3"
  },
  "language_info": {
   "codemirror_mode": {
    "name": "ipython",
    "version": 3
   },
   "file_extension": ".py",
   "mimetype": "text/x-python",
   "name": "python",
   "nbconvert_exporter": "python",
   "pygments_lexer": "ipython3",
   "version": "3.12.6"
  }
 },
 "nbformat": 4,
 "nbformat_minor": 2
}
